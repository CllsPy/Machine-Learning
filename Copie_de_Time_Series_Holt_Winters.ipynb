{
  "nbformat": 4,
  "nbformat_minor": 0,
  "metadata": {
    "colab": {
      "private_outputs": true,
      "provenance": [],
      "authorship_tag": "ABX9TyNf+UrKFVcqr7jvOIua0uih",
      "include_colab_link": true
    },
    "kernelspec": {
      "name": "python3",
      "display_name": "Python 3"
    },
    "language_info": {
      "name": "python"
    }
  },
  "cells": [
    {
      "cell_type": "markdown",
      "metadata": {
        "id": "view-in-github",
        "colab_type": "text"
      },
      "source": [
        "<a href=\"https://colab.research.google.com/github/CllsPy/Machine-Learning/blob/main/Copie_de_Time_Series_Holt_Winters.ipynb\" target=\"_parent\"><img src=\"https://colab.research.google.com/assets/colab-badge.svg\" alt=\"Open In Colab\"/></a>"
      ]
    },
    {
      "cell_type": "markdown",
      "source": [
        "### Setup"
      ],
      "metadata": {
        "id": "0wE12Tu_1aUV"
      }
    },
    {
      "cell_type": "code",
      "execution_count": null,
      "metadata": {
        "id": "3H-208cHzWAL"
      },
      "outputs": [],
      "source": [
        "## opcional\n",
        "import plotly.express as px\n",
        "import yfinance as yf\n",
        "\n",
        "## visualize data\n",
        "import matplotlib.pyplot as plt\n",
        "import seaborn as sns\n",
        "import matplotlib\n",
        "import matplotlib.pyplot as plt\n",
        "import seaborn as sns\n",
        "\n",
        "sns.set_palette('magma')\n",
        "sns.set_style(\"darkgrid\")\n",
        "matplotlib.rcParams['font.size'] = 8\n",
        "matplotlib.rcParams['figure.figsize'] = (12, 4)\n",
        "matplotlib.rcParams['figure.dpi'] = 100\n",
        "\n",
        "## maniputate data\n",
        "import pandas as pd\n",
        "import numpy as np\n",
        "\n",
        "## data\n",
        "data = px.data.stocks()\n",
        "\n",
        "%matplotlib inline"
      ]
    },
    {
      "cell_type": "markdown",
      "source": [
        "### Preparação dos Dados"
      ],
      "metadata": {
        "id": "QOai5wKU1L9d"
      }
    },
    {
      "cell_type": "code",
      "source": [
        "data.info()"
      ],
      "metadata": {
        "id": "yOLHxARh1Sb-"
      },
      "execution_count": null,
      "outputs": []
    },
    {
      "cell_type": "markdown",
      "source": [
        "Umas informações sobre o conjunto de dados, como a quantidade de colunas e quais são elas, além disso o tipo de cada uma. E podemos também atestar que não há valores nulos (poupará bastante trabalho)."
      ],
      "metadata": {
        "id": "d9aLeymJ1rQN"
      }
    },
    {
      "cell_type": "code",
      "source": [
        "data.head()"
      ],
      "metadata": {
        "id": "z3oON7Gf11vK"
      },
      "execution_count": null,
      "outputs": []
    },
    {
      "cell_type": "code",
      "source": [
        "data.isnull().sum()"
      ],
      "metadata": {
        "id": "m9iPWxSC4Xt6"
      },
      "execution_count": null,
      "outputs": []
    },
    {
      "cell_type": "code",
      "source": [
        "data.columns"
      ],
      "metadata": {
        "id": "HBhXt1LB4g5-"
      },
      "execution_count": null,
      "outputs": []
    },
    {
      "cell_type": "code",
      "source": [
        "data.dtypes"
      ],
      "metadata": {
        "id": "qn9tUW6vAhBY"
      },
      "execution_count": null,
      "outputs": []
    },
    {
      "cell_type": "markdown",
      "source": [
        "### Data Preprocessing"
      ],
      "metadata": {
        "id": "r3D9k19f4MRB"
      }
    },
    {
      "cell_type": "code",
      "source": [
        "data = data.set_index('date')"
      ],
      "metadata": {
        "id": "gFtgRdlj-4u0"
      },
      "execution_count": null,
      "outputs": []
    },
    {
      "cell_type": "code",
      "source": [
        "data.describe().transpose().reset_index()"
      ],
      "metadata": {
        "id": "WfDeTjQy2wVL"
      },
      "execution_count": null,
      "outputs": []
    },
    {
      "cell_type": "markdown",
      "source": [
        "**GOOG**\n",
        "\n",
        "- max: 1.22\n",
        "- min: 0.88\n",
        "\n",
        "**AAPL**\n",
        "\n",
        "- max: 1.67\n",
        "- min: 0.84\n",
        "\n",
        "**AMZN**\n",
        "\n",
        "- max: 1.63\n",
        "- min: 1.0\n",
        "\n",
        "**FB**\n",
        "\n",
        "- max: 1.12\n",
        "- min: 0.66\n",
        "\n",
        "**NFLX**\n",
        "\n",
        "- max: 1.95\n",
        "- min: 1.0\n",
        "\n",
        "\n",
        "**MSFT**\n",
        "\n",
        "- max: 1.80\n",
        "- min: 0.98"
      ],
      "metadata": {
        "id": "kGKhdpih27Hc"
      }
    },
    {
      "cell_type": "code",
      "source": [
        "fig = px.box(data, y=\"GOOG\")\n",
        "fig.show()"
      ],
      "metadata": {
        "id": "f6I5dxJz3EWF"
      },
      "execution_count": null,
      "outputs": []
    },
    {
      "cell_type": "code",
      "source": [],
      "metadata": {
        "id": "LDTo2wt7mZ_l"
      },
      "execution_count": null,
      "outputs": []
    },
    {
      "cell_type": "code",
      "source": [
        "fig = px.histogram(data, x=\"GOOG\", marginal=\"rug\", nbins = 10, text_auto = True)\n",
        "fig.show()"
      ],
      "metadata": {
        "id": "gTPCcN7U7CTy"
      },
      "execution_count": null,
      "outputs": []
    },
    {
      "cell_type": "code",
      "source": [
        "fig = px.box(data, y=\"AAPL\")\n",
        "fig.show()"
      ],
      "metadata": {
        "id": "H1Q2RatO6hRk"
      },
      "execution_count": null,
      "outputs": []
    },
    {
      "cell_type": "code",
      "source": [
        "fig = px.histogram(data, x=\"AAPL\", marginal=\"rug\", nbins = 10, text_auto = True)\n",
        "fig.show()"
      ],
      "metadata": {
        "id": "YJA2J6FY7ZUB"
      },
      "execution_count": null,
      "outputs": []
    },
    {
      "cell_type": "code",
      "source": [
        "fig = px.box(data, y=\"AMZN\")\n",
        "fig.show()"
      ],
      "metadata": {
        "id": "Svg-K9vx6lwz"
      },
      "execution_count": null,
      "outputs": []
    },
    {
      "cell_type": "code",
      "source": [
        "fig = px.histogram(data, x=\"AMZN\", marginal=\"rug\", nbins = 10, text_auto = True)\n",
        "fig.show()"
      ],
      "metadata": {
        "id": "arWGnbC-7dyB"
      },
      "execution_count": null,
      "outputs": []
    },
    {
      "cell_type": "code",
      "source": [
        "fig = px.box(data, y=\"FB\")\n",
        "fig.show()"
      ],
      "metadata": {
        "id": "y0Uf_mFf6p76"
      },
      "execution_count": null,
      "outputs": []
    },
    {
      "cell_type": "code",
      "source": [
        "fig = px.histogram(data, x=\"FB\", marginal=\"rug\", nbins = 10, text_auto = True)\n",
        "fig.show()"
      ],
      "metadata": {
        "id": "Q-X4cQGO7id7"
      },
      "execution_count": null,
      "outputs": []
    },
    {
      "cell_type": "code",
      "source": [
        "fig = px.box(data, y=\"NFLX\")\n",
        "fig.show()"
      ],
      "metadata": {
        "id": "UxZyLBsv6tFE"
      },
      "execution_count": null,
      "outputs": []
    },
    {
      "cell_type": "code",
      "source": [
        "fig = px.histogram(data, x=\"NFLX\", marginal=\"rug\", nbins = 10, text_auto = True)\n",
        "fig.show()"
      ],
      "metadata": {
        "id": "0-OR4Q707mz1"
      },
      "execution_count": null,
      "outputs": []
    },
    {
      "cell_type": "code",
      "source": [
        "fig = px.box(data, y=\"MSFT\")\n",
        "fig.show()"
      ],
      "metadata": {
        "id": "D18ksYxr6vFk"
      },
      "execution_count": null,
      "outputs": []
    },
    {
      "cell_type": "code",
      "source": [
        "fig = px.histogram(data, x=\"MSFT\", marginal=\"rug\", nbins = 10, text_auto = True)\n",
        "fig.show()"
      ],
      "metadata": {
        "id": "5JtXRycX7r4q"
      },
      "execution_count": null,
      "outputs": []
    },
    {
      "cell_type": "markdown",
      "source": [
        "### Data Mining"
      ],
      "metadata": {
        "id": "DDg2hixr8UaZ"
      }
    },
    {
      "cell_type": "code",
      "source": [
        "# sns.set_palette('Spectral')\n",
        "sns.set_style(\"whitegrid\")\n",
        "matplotlib.rcParams['font.size'] = 8\n",
        "matplotlib.rcParams['figure.figsize'] = (12, 4)\n",
        "matplotlib.rcParams['figure.dpi'] = 100"
      ],
      "metadata": {
        "id": "EdJIKM0a9XP2"
      },
      "execution_count": null,
      "outputs": []
    },
    {
      "cell_type": "markdown",
      "source": [
        "### Duas Variáveis ou Multivariável"
      ],
      "metadata": {
        "id": "4905KzYu8WAV"
      }
    },
    {
      "cell_type": "code",
      "source": [
        "plt.figure(dpi=200)\n",
        "sns.lineplot(data.loc[:, ['AAPL', 'GOOG', 'AMZN', 'NFLX', 'MSFT', 'FB']].reset_index(), palette='hls');\n",
        "sns.despine(left=True)"
      ],
      "metadata": {
        "id": "4qInw0lr9j-0"
      },
      "execution_count": null,
      "outputs": []
    },
    {
      "cell_type": "markdown",
      "source": [
        "Há claramente sazonalidades nos valores, e é notável que a 'std' não é constante."
      ],
      "metadata": {
        "id": "E8mKOSgi_6Zp"
      }
    },
    {
      "cell_type": "markdown",
      "source": [
        "### Holt-Winters\n",
        "\n",
        "Holt-Winters é um modelo que leva em conta a tendência, sazonalidade e fatores de suavização para fornecer previsões mais robustas em séries temporais que exibem padrões complexos ao longo do tempo.\n",
        "\n",
        "\n",
        "\n",
        "\n",
        "\n"
      ],
      "metadata": {
        "id": "u62-R_Na-fUD"
      }
    },
    {
      "cell_type": "code",
      "source": [
        "from statsmodels.tsa.arima.model import ARIMA\n",
        "from statsmodels.graphics.tsaplots import plot_acf, plot_pacf\n",
        "from sklearn.model_selection import train_test_split\n",
        "from statsmodels.tsa.holtwinters import  SimpleExpSmoothing"
      ],
      "metadata": {
        "id": "sSgTofI_X7ck"
      },
      "execution_count": null,
      "outputs": []
    },
    {
      "cell_type": "code",
      "source": [
        "dt_copy = data.loc[:, ['AAPL']]\n",
        "# dt_copy"
      ],
      "metadata": {
        "id": "MkMpuduLb9cu"
      },
      "execution_count": null,
      "outputs": []
    },
    {
      "cell_type": "code",
      "source": [
        "dt_copy.index.freq = 'MS'"
      ],
      "metadata": {
        "id": "EQ-Z-RducTGg"
      },
      "execution_count": null,
      "outputs": []
    },
    {
      "cell_type": "code",
      "source": [
        "span = 12\n",
        "alpha = 2/(span+1)\n",
        "model = SimpleExpSmoothing(dt_copy['AAPL'])\n",
        "fit_model = model.fit(smoothing_level=alpha, optimized=False)\n",
        "dt_copy['ses'] = fit_model.fittedvalues.shift(-1)\n",
        "px.line(dt_copy)"
      ],
      "metadata": {
        "id": "Pxl-WNsmcgO9"
      },
      "execution_count": null,
      "outputs": []
    },
    {
      "cell_type": "markdown",
      "source": [
        "### Validação do Modelo"
      ],
      "metadata": {
        "id": "4VGbA4ihfHFq"
      }
    },
    {
      "cell_type": "code",
      "source": [
        "ape = np.abs((dt_copy['AAPL'].iloc[:-1] - dt_copy['ses'].dropna()) / dt_copy['AAPL'].iloc[:-1])\n",
        "mape = np.mean(ape) * 100\n",
        "mape"
      ],
      "metadata": {
        "id": "LBSkLy-jfIcS"
      },
      "execution_count": null,
      "outputs": []
    },
    {
      "cell_type": "code",
      "source": [
        "from sklearn.metrics import mean_absolute_error\n",
        "mae = mean_absolute_error(dt_copy['AAPL'].iloc[:-1], dt_copy['ses'].dropna())\n",
        "mae"
      ],
      "metadata": {
        "id": "nidErNpBfNic"
      },
      "execution_count": null,
      "outputs": []
    }
  ]
}